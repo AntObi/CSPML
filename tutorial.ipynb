{
 "cells": [
  {
   "cell_type": "code",
   "execution_count": 1,
   "id": "4c98a308",
   "metadata": {},
   "outputs": [],
   "source": [
    "# Import CSPML module.\n",
    "import CSPML\n",
    "\n",
    "# Import libraries.\n",
    "import pandas as pd\n",
    "import numpy as np\n",
    "import pickle\n",
    "import os"
   ]
  },
  {
   "cell_type": "code",
   "execution_count": 2,
   "id": "f117940e",
   "metadata": {},
   "outputs": [],
   "source": [
    "# Set query formulas (chemical formulas for crystal structure prediction).\n",
    "query_formula = ['Ag8GeS6','Al2O3','BN','Ba(FeAs)2','Ba2CaSi4(BO7)2','Bi2Te3','C','Ca14MnSb11','CaCO3','Cd3As2',\n",
    " 'CoSb3','CsPbI3','Cu12Sb4S13','Fe3O4','GaAs','GeH4','La2CuO4','Li3PS4','Li4Ti5O12','LiBF4','LiCoO2','LiFePO4',\n",
    " 'LiPF6','MgB7','Mn(FeO2)2','NaCaAlPHO5F2','Si','Si3N4','SiO2','SrTiO3','TiO2','V2O5','VO2','Y3Al5O12','ZnO',\n",
    " 'ZnSb','ZrO2','ZrTe5'] # (N=38)\n",
    "\n",
    "# Load candidate compounds (N=33,115) used in the paper (in preparation; 2022/01/12).\n",
    "with open(\"./data_set/candidates_paper.pkl\", \"rb\") as f:\n",
    "    candidates_paper = pickle.load(f)"
   ]
  },
  {
   "cell_type": "code",
   "execution_count": 3,
   "id": "ade713bf",
   "metadata": {},
   "outputs": [
    {
     "name": "stdout",
     "output_type": "stream",
     "text": [
      "None of the candidates had the class probabilities greater than 0.5 at Ba2CaSi4(BO7)2.\n",
      "None of the candidates had the class probabilities greater than 0.5 at MgB7.\n",
      "None of the candidates had the same composition ratio as NaCaAlPHO5F2.\n",
      "The top-1th predicted structure for CoSb3 is shown below;\n",
      "Full Formula (Co4 Sb12)\n",
      "Reduced Formula: CoSb3\n",
      "abc   :   7.948651   7.948651   7.948651\n",
      "angles: 109.471221 109.471221 109.471221\n",
      "Sites (16)\n",
      "  #  SP           a         b         c    magmom\n",
      "---  ----  --------  --------  --------  --------\n",
      "  0  Co    0.5       0.5       0.5          1.047\n",
      "  1  Co    0.5       0         0            0.95\n",
      "  2  Co    0         0         0.5          0.979\n",
      "  3  Co    0         0.5       0            0.994\n",
      "  4  Sb    0.669087  0.840293  0.50938     -0.001\n",
      "  5  Sb    0.840293  0.50938   0.669087    -0.007\n",
      "  6  Sb    0.50938   0.669087  0.840293    -0.007\n",
      "  7  Sb    0.669087  0.159707  0.828795    -0.002\n",
      "  8  Sb    0.840293  0.171205  0.330913    -0.01\n",
      "  9  Sb    0.159707  0.828795  0.669087    -0.01\n",
      " 10  Sb    0.171205  0.330913  0.840293    -0.011\n",
      " 11  Sb    0.159707  0.49062   0.330913    -0.007\n",
      " 12  Sb    0.330913  0.159707  0.49062     -0.001\n",
      " 13  Sb    0.49062   0.330913  0.159707    -0.007\n",
      " 14  Sb    0.330913  0.840293  0.171205    -0.002\n",
      " 15  Sb    0.828795  0.669087  0.159707    -0.011\n"
     ]
    }
   ],
   "source": [
    "# Predict stable structures for the given query formulas using the candidate compounds used in the paper.\n",
    "# In the example below, up to 12 structures are suggested for each query fomula.\n",
    "predicted = CSPML.Structure_prediction(query_formula, 12, candidates_paper)\n",
    "\n",
    "i = 10\n",
    "j = 0\n",
    "print(f\"The top-{j+1}th predicted structure for {query_formula[i]} is shown below;\\n{predicted[i][j]}\")"
   ]
  },
  {
   "cell_type": "code",
   "execution_count": 4,
   "id": "e86e1656",
   "metadata": {},
   "outputs": [
    {
     "name": "stdout",
     "output_type": "stream",
     "text": [
      "None of the candidates had the class probabilities greater than 0.5 at Ba2CaSi4(BO7)2.\n",
      "None of the candidates had the class probabilities greater than 0.5 at MgB7.\n",
      "None of the candidates had the same composition ratio as NaCaAlPHO5F2.\n",
      "The top-1th predicted structure for CoSb3 is shown below; \n",
      "Full Formula (Co4 Sb12)\n",
      "Reduced Formula: CoSb3\n",
      "abc   :   7.948651   7.948651   7.948651\n",
      "angles: 109.471221 109.471221 109.471221\n",
      "Sites (16)\n",
      "  #  SP           a         b         c    magmom\n",
      "---  ----  --------  --------  --------  --------\n",
      "  0  Co    0.5       0.5       0.5          1.047\n",
      "  1  Co    0.5       0         0            0.95\n",
      "  2  Co    0         0         0.5          0.979\n",
      "  3  Co    0         0.5       0            0.994\n",
      "  4  Sb    0.669087  0.840293  0.50938     -0.001\n",
      "  5  Sb    0.840293  0.50938   0.669087    -0.007\n",
      "  6  Sb    0.50938   0.669087  0.840293    -0.007\n",
      "  7  Sb    0.669087  0.159707  0.828795    -0.002\n",
      "  8  Sb    0.840293  0.171205  0.330913    -0.01\n",
      "  9  Sb    0.159707  0.828795  0.669087    -0.01\n",
      " 10  Sb    0.171205  0.330913  0.840293    -0.011\n",
      " 11  Sb    0.159707  0.49062   0.330913    -0.007\n",
      " 12  Sb    0.330913  0.159707  0.49062     -0.001\n",
      " 13  Sb    0.49062   0.330913  0.159707    -0.007\n",
      " 14  Sb    0.330913  0.840293  0.171205    -0.002\n",
      " 15  Sb    0.828795  0.669087  0.159707    -0.011\n",
      "This predicted structure was generated by element-substitution of the template structure; \n",
      "formula = FeSb3, material id = mp-971669\n"
     ]
    }
   ],
   "source": [
    "# If SI = True, the supplementary information of the predicted structures are also returned.\n",
    "# In the example below, up to 5 structures are suggested for each query fomula.\n",
    "predicted, SI = CSPML.Structure_prediction(query_formula, 5, candidates_paper, SI=True)\n",
    "\n",
    "print(f\"The top-{j+1}th predicted structure for {query_formula[i]} is shown below; \\n{predicted[i][j]}\")\n",
    "print(f\"This predicted structure was generated by element-substitution of the template structure; \\nformula = {SI[i]['topK_formula'][j]}, material id = {SI[i]['topK_id'][j]}\")"
   ]
  },
  {
   "cell_type": "code",
   "execution_count": 5,
   "id": "b83e2a34",
   "metadata": {},
   "outputs": [
    {
     "name": "stdout",
     "output_type": "stream",
     "text": [
      "None of the candidates had the class probabilities greater than 0.5 at Ba2CaSi4(BO7)2.\n",
      "None of the candidates had the class probabilities greater than 0.5 at MgB7.\n",
      "None of the candidates had the same composition ratio as NaCaAlPHO5F2.\n",
      "The top-1th predicted structure for CoSb3 is saved as a CoSb3_1.cif.\n"
     ]
    }
   ],
   "source": [
    "# Make new directory for saving .cif files of the predicted structures.\n",
    "os.mkdir(\"predicted_structures_paper\")\n",
    "\n",
    "# If save_cif = True, the .cif files of the predicted structures are automatically saved into save_cif_filename.\n",
    "# In the example below, up to 5 structures are suggested for each query fomula.\n",
    "predicted = CSPML.Structure_prediction(query_formula, 5, candidates_paper, save_cif = True, \n",
    "                                  save_cif_filename = \"predicted_structures_paper\")\n",
    "\n",
    "print(f\"The top-{j+1}th predicted structure for {query_formula[i]} is saved as a {query_formula[i]}_{j+1}.cif.\")"
   ]
  },
  {
   "cell_type": "code",
   "execution_count": 7,
   "id": "b2ee335b",
   "metadata": {},
   "outputs": [],
   "source": [
    "# For general use.\n",
    "\n",
    "# Make new directory for saving .cif files of the predicted structures.\n",
    "os.mkdir(\"predicted_structures\")\n",
    "\n",
    "# Perform structure prediction with embedded candidate compounds in the CSPML module.\n",
    "# Since the embedded candidate compounds (=CSPML.MP_candidates; N=33,153) contains true structures for \n",
    "# all query formulas defined in this program, their true structures are suggested as top-1th predicted structures.  \n",
    "# In the example below, up to 6 structures are suggested for each query fomula.\n",
    "\n",
    "predicted, SI = CSPML.Structure_prediction(query_formula, 6, SI = True, save_cif = True, \n",
    "                                  save_cif_filename = \"predicted_structures\")\n",
    "\n",
    "# The simplest form is \"predicted= CSPML.Structure_prediction(query_formula, 6)\".\n",
    "# Since the candidate set is embedded in the module, the user only needs to set \"query_formula\" and \"top_K\".\n",
    "# Since candidates_paper is a subset of the embedded candidate compounds (candidates_paper is for reproducing\n",
    "# the result of the paper), if you use this module for general use, you should use this form."
   ]
  }
 ],
 "metadata": {
  "kernelspec": {
   "display_name": "Python 3 (ipykernel)",
   "language": "python",
   "name": "python3"
  },
  "language_info": {
   "codemirror_mode": {
    "name": "ipython",
    "version": 3
   },
   "file_extension": ".py",
   "mimetype": "text/x-python",
   "name": "python",
   "nbconvert_exporter": "python",
   "pygments_lexer": "ipython3",
   "version": "3.8.8"
  }
 },
 "nbformat": 4,
 "nbformat_minor": 5
}
